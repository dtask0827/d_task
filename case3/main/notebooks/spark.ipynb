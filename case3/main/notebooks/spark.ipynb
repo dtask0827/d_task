{
 "cells": [
  {
   "cell_type": "code",
   "execution_count": 1,
   "id": "86d0bbdd-8241-46d0-88f7-0664baa17d84",
   "metadata": {
    "tags": []
   },
   "outputs": [
    {
     "name": "stderr",
     "output_type": "stream",
     "text": [
      "23/08/27 17:28:57 WARN NativeCodeLoader: Unable to load native-hadoop library for your platform... using builtin-java classes where applicable\n",
      "Using Spark's default log4j profile: org/apache/spark/log4j-defaults.properties\n",
      "Setting default log level to \"WARN\".\n",
      "To adjust logging level use sc.setLogLevel(newLevel). For SparkR, use setLogLevel(newLevel).\n"
     ]
    }
   ],
   "source": [
    "from pyspark.sql import SparkSession\n",
    "import pyspark.sql.functions as F\n",
    "spark = (SparkSession.builder.appName(\"test_app\")\n",
    "         .master(\"local[*]\")\n",
    "        .config(\"spark.sql.warehouse.dir\", \"/user/hive/warehouse\")\n",
    "        .config(\"spark.sql.catalogImplementation\", \"hive\")\n",
    "        .config(\"spark.hadoop.hive.metastore.uris\", \"thrift://hive-metastore:9083\")\n",
    "        .config(\"spark.hadoop.fs.defaultFS\",  \"hdfs://namenode:9000\")\n",
    "        .enableHiveSupport()\n",
    "        .getOrCreate())\n",
    "spark.sparkContext.setLogLevel(\"ERROR\")"
   ]
  },
  {
   "cell_type": "code",
   "execution_count": 2,
   "id": "cba52be7-f4c8-449c-931a-8f60d8edf258",
   "metadata": {},
   "outputs": [],
   "source": [
    "def cells_per_tech_for_all_sites():\n",
    "    cell_techs = spark.sql(\"select distinct cell_tech from netwrok_cells.dim__cell_tech\").collect()\n",
    "    site_ids = spark.sql(\"select distinct site_id from netwrok_cells.site\").collect()\n",
    "    site_and_tech = spark.sql(\"\"\"\n",
    "    select count(*) as cell_count, site_id, cell_tech, dt  from netwrok_cells.cell_site\n",
    "    group by dt, site_id, cell_tech\n",
    "    order by dt, site_id, cell_tech;\n",
    "    \"\"\")\n",
    "    return site_and_tech.groupBy(\"dt\").agg(\n",
    "    *[\n",
    "        F.max(\n",
    "            F.when(\n",
    "                (F.col(\"cell_tech\") == cell_tech.cell_tech)\n",
    "                & (F.col(\"site_id\") == site_id.site_id),\n",
    "                F.col(\"cell_count\"),\n",
    "            ).otherwise(0)\n",
    "        ).alias(f\"{site_id.site_id}_{cell_tech.cell_tech}_cnt\")\n",
    "        for site_id in site_ids\n",
    "        for cell_tech in cell_techs\n",
    "    ]\n",
    ")"
   ]
  },
  {
   "cell_type": "code",
   "execution_count": 3,
   "id": "a8608c6e",
   "metadata": {},
   "outputs": [
    {
     "name": "stderr",
     "output_type": "stream",
     "text": [
      "                                                                                \r"
     ]
    },
    {
     "name": "stdout",
     "output_type": "stream",
     "text": [
      "+----------+----------+---------+---------+----------+---------+---------+\n",
      "|        dt|3_umts_cnt|3_lte_cnt|3_gsm_cnt|4_umts_cnt|4_lte_cnt|4_gsm_cnt|\n",
      "+----------+----------+---------+---------+----------+---------+---------+\n",
      "|2018-10-24|         2|        4|        2|         0|        0|        0|\n",
      "|2019-11-04|         0|        0|        2|         0|        0|        0|\n",
      "+----------+----------+---------+---------+----------+---------+---------+\n",
      "\n"
     ]
    }
   ],
   "source": [
    "cells_per_tech_for_all_sites().show()"
   ]
  },
  {
   "cell_type": "code",
   "execution_count": 6,
   "id": "85d4753d-474e-4914-be5c-61d0fb1789e4",
   "metadata": {},
   "outputs": [],
   "source": [
    "def cells_per_tech_and_freq_for_site(site_id):\n",
    "    cell_techs_freqs = spark.sql(\"select distinct cell_tech, frequency_band from netwrok_cells.dim__cell_tech\").collect()\n",
    "    site_tech_and_freq = spark.sql(f\"\"\"\n",
    "    select count(*) as cell_count, cell_tech, frequency_band, dt  from netwrok_cells.cell_site\n",
    "    where site_id = '{site_id}'\n",
    "    group by dt, cell_tech, frequency_band\n",
    "    order by dt, cell_tech, frequency_band\n",
    "    ;\n",
    "    \"\"\")\n",
    "    return site_tech_and_freq.groupBy(\"dt\").agg(\n",
    "        *[\n",
    "            F.max(\n",
    "                F.when(\n",
    "                    (F.col(\"cell_tech\") == cell_tech_freq.cell_tech)\n",
    "                    & (F.col(\"frequency_band\") == cell_tech_freq.frequency_band),\n",
    "                    F.col(\"cell_count\"),\n",
    "                ).otherwise(0)\n",
    "            ).alias(f\"frequency_band_{cell_tech_freq.cell_tech[0].upper()}{cell_tech_freq.frequency_band}_by_site\")\n",
    "            for cell_tech_freq in cell_techs_freqs\n",
    "        ]\n",
    "    )\n"
   ]
  },
  {
   "cell_type": "code",
   "execution_count": 7,
   "id": "f60d71e4-3537-401e-99a8-9ab3abd05b6f",
   "metadata": {},
   "outputs": [
    {
     "name": "stderr",
     "output_type": "stream",
     "text": [
      "                                                                                \r"
     ]
    },
    {
     "name": "stdout",
     "output_type": "stream",
     "text": [
      "+----------+----------------------------+----------------------------+---------------------------+---------------------------+----------------------------+----------------------------+---------------------------+----------------------------+---------------------------+\n",
      "|        dt|frequency_band_L2600_by_site|frequency_band_L1800_by_site|frequency_band_L700_by_site|frequency_band_G900_by_site|frequency_band_G1800_by_site|frequency_band_U2100_by_site|frequency_band_U900_by_site|frequency_band_L2100_by_site|frequency_band_L800_by_site|\n",
      "+----------+----------------------------+----------------------------+---------------------------+---------------------------+----------------------------+----------------------------+---------------------------+----------------------------+---------------------------+\n",
      "|2018-10-24|                           1|                           1|                          1|                          1|                           1|                           2|                          0|                           0|                          1|\n",
      "|2019-11-04|                           0|                           0|                          0|                          1|                           1|                           0|                          0|                           0|                          0|\n",
      "+----------+----------------------------+----------------------------+---------------------------+---------------------------+----------------------------+----------------------------+---------------------------+----------------------------+---------------------------+\n",
      "\n"
     ]
    }
   ],
   "source": [
    "cells_per_tech_and_freq_for_site(3).show()"
   ]
  }
 ],
 "metadata": {
  "kernelspec": {
   "display_name": "Python 3 (ipykernel)",
   "language": "python",
   "name": "python3"
  },
  "language_info": {
   "codemirror_mode": {
    "name": "ipython",
    "version": 3
   },
   "file_extension": ".py",
   "mimetype": "text/x-python",
   "name": "python",
   "nbconvert_exporter": "python",
   "pygments_lexer": "ipython3",
   "version": "3.7.12"
  }
 },
 "nbformat": 4,
 "nbformat_minor": 5
}
